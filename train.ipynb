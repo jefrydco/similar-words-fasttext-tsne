{
 "cells": [
  {
   "cell_type": "code",
   "execution_count": 1,
   "metadata": {},
   "outputs": [],
   "source": [
    "from gensim.models.fasttext import FastText\n",
    "\n",
    "import re\n",
    "import glob"
   ]
  },
  {
   "cell_type": "code",
   "execution_count": 2,
   "metadata": {},
   "outputs": [],
   "source": [
    "# Taken from: https://coderwall.com/p/rcmaea/flatten-a-list-of-lists-in-one-line-in-python\n",
    "def flatten(lines):\n",
    "  return [y for x in lines for y in x]"
   ]
  },
  {
   "cell_type": "code",
   "execution_count": 3,
   "metadata": {},
   "outputs": [],
   "source": [
    "# Taken from: https://stackoverflow.com/questions/43358857/how-to-remove-special-characters-except-space-from-a-file-in-python/43358965#answer-43359001\n",
    "def remove_special_char(line):\n",
    "  return re.sub(r'\\W+', ' ', line).strip()"
   ]
  },
  {
   "cell_type": "code",
   "execution_count": 4,
   "metadata": {},
   "outputs": [],
   "source": [
    "# Taken from: https://stackoverflow.com/questions/11331982/how-to-remove-any-url-within-a-string-in-python#answer-50036508\n",
    "def remove_link(line):\n",
    "  return re.sub(r'''(?i)\\b((?:https?://|www\\d{0,3}[.]|[a-z0-9.\\-]+[.][a-z]{2,4}/)(?:[^\\s()<>]+|\\(([^\\s()<>]+|(\\([^\\s()<>]+\\)))*\\))+(?:\\(([^\\s()<>]+|(\\([^\\s()<>]+\\)))*\\)|[^\\s`!()\\[\\]{};:'\".,<>?«»“”‘’]))''', \" \", line).strip()"
   ]
  },
  {
   "cell_type": "code",
   "execution_count": 5,
   "metadata": {},
   "outputs": [],
   "source": [
    "def get_sentence(line):\n",
    "  return line.split('|')[-1].lower()"
   ]
  },
  {
   "cell_type": "code",
   "execution_count": 6,
   "metadata": {},
   "outputs": [],
   "source": [
    "# Taken from: https://stackoverflow.com/questions/275018/how-can-i-remove-chomp-a-trailing-newline-in-python#answer-50870896\n",
    "def strip_newline(line):\n",
    "  return re.sub('(\\\\r|)\\\\n$', '', line)"
   ]
  },
  {
   "cell_type": "code",
   "execution_count": 7,
   "metadata": {},
   "outputs": [],
   "source": [
    "def remove_empty_string(lines):\n",
    "  return list(filter(str.strip, lines))"
   ]
  },
  {
   "cell_type": "code",
   "execution_count": 8,
   "metadata": {},
   "outputs": [],
   "source": [
    "# Taken from: https://stackoverflow.com/questions/3277503/in-python-how-do-i-read-a-file-line-by-line-into-a-list#answer-43625375\n",
    "def read_file(filename):\n",
    "  with open(filename, encoding = 'utf-8', errors = 'ignore') as file:\n",
    "    return remove_empty_string([remove_special_char(remove_link(get_sentence(strip_newline(line)))) for line in file])"
   ]
  },
  {
   "cell_type": "code",
   "execution_count": 9,
   "metadata": {},
   "outputs": [],
   "source": [
    "def get_lines():\n",
    "  return [read_file(file_name) for file_name in glob.glob('datasets/*.txt')]"
   ]
  },
  {
   "cell_type": "code",
   "execution_count": 10,
   "metadata": {},
   "outputs": [],
   "source": [
    "datasets = [data.split(' ') for data in flatten(get_lines())]"
   ]
  },
  {
   "cell_type": "code",
   "execution_count": 11,
   "metadata": {},
   "outputs": [
    {
     "name": "stdout",
     "output_type": "stream",
     "text": [
      "[['risks', 'in', 'using', 'social', 'media', 'to', 'spot', 'signs', 'of', 'mental', 'distress'], ['rt', 'paula_span', 'the', 'most', 'effective', 'nationwide', 'diabetes', 'prevention', 'program', 'you', 've', 'probably', 'never', 'heard', 'of'], ['the', 'new', 'old', 'age', 'blog', 'diabetes', 'prevention', 'that', 'works'], ['well', 'comfort', 'casseroles', 'for', 'winter', 'dinners'], ['high', 'level', 'knowledge', 'before', 'veterans', 'affairs', 'scandal'], ['your', 'money', 'affordable', 'care', 'act', 's', 'tax', 'effects', 'now', 'loom', 'for', 'filers'], ['well', 'christmas', 'in', 'the', 'hospital'], ['the', 'texas', 'tribune', 'for', 'members', 'of', 'health', 'ministries', 'in', 'texas', 'caring', 'means', 'sharing', 'the', 'bills'], ['a', 'q', 'amp', 'a', 'with', 'laura', 'hillenbrand', 'author', 'of', 'unbroken', 'who', 'suffers', 'from', 'chronic', 'fatigue', 'syndrome'], ['race', 'to', 'deliver', 'nicotine', 's', 'punch', 'with', 'less', 'risk']]\n"
     ]
    }
   ],
   "source": [
    "print(datasets[:10])"
   ]
  },
  {
   "cell_type": "code",
   "execution_count": 12,
   "metadata": {},
   "outputs": [],
   "source": [
    "model = FastText(sentences = datasets, size = 100, window = 5, min_count = 5, workers = 4, sg = 0, hs = 1)\n",
    "model.save('model.bin')"
   ]
  },
  {
   "cell_type": "code",
   "execution_count": 13,
   "metadata": {},
   "outputs": [
    {
     "name": "stdout",
     "output_type": "stream",
     "text": [
      "[('ebolaqanda', 0.9220169186592102), ('ebolafacts', 0.8652397394180298), ('ebolaoutbreak', 0.72614586353302), ('cola', 0.6625171303749084), ('mers', 0.6419135332107544), ('fla', 0.6233806610107422), ('syria', 0.6190047860145569), ('liberia', 0.6146339774131775), ('meningitis', 0.6106266975402832), ('nigeria', 0.5972136855125427)]\n"
     ]
    },
    {
     "name": "stderr",
     "output_type": "stream",
     "text": [
      "/mnt/Data/Miniconda3/envs/myenv/lib/python3.6/site-packages/gensim/matutils.py:737: FutureWarning: Conversion of the second argument of issubdtype from `int` to `np.signedinteger` is deprecated. In future, it will be treated as `np.int64 == np.dtype(int).type`.\n",
      "  if np.issubdtype(vec.dtype, np.int):\n"
     ]
    }
   ],
   "source": [
    "print(model.wv.most_similar('ebola'))"
   ]
  }
 ],
 "metadata": {
  "kernelspec": {
   "display_name": "Python 3",
   "language": "python",
   "name": "python3"
  },
  "language_info": {
   "codemirror_mode": {
    "name": "ipython",
    "version": 3
   },
   "file_extension": ".py",
   "mimetype": "text/x-python",
   "name": "python",
   "nbconvert_exporter": "python",
   "pygments_lexer": "ipython3",
   "version": "3.6.6"
  }
 },
 "nbformat": 4,
 "nbformat_minor": 2
}
